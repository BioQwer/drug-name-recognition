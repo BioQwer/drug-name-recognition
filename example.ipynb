{
 "cells": [
  {
   "cell_type": "code",
   "execution_count": 9,
   "metadata": {
    "collapsed": false
   },
   "outputs": [
    {
     "name": "stdout",
     "output_type": "stream",
     "text": [
      "Number of parameters: \nEmbeddings 6056366\nConvNet 504704\nClassifier 2056\ntransitions:0 64\nTotal number of parameters equal 6563190\n"
     ]
    },
    {
     "name": "stderr",
     "output_type": "stream",
     "text": [
      "/usr/local/lib/python3.6/dist-packages/tensorflow/python/ops/gradients_impl.py:95: UserWarning: Converting sparse IndexedSlices to a dense Tensor of unknown shape. This may consume a large amount of memory.\n  \"Converting sparse IndexedSlices to a dense Tensor of unknown shape. \"\n"
     ]
    },
    {
     "name": "stdout",
     "output_type": "stream",
     "text": [
      "INFO:tensorflow:Restoring parameters from model/ner_model.ckpt\n"
     ]
    }
   ],
   "source": [
    "from ner.network import NER\n",
    "from ner.corpus import Corpus\n",
    "from data_tools import total_reader\n",
    "import json\n",
    "\n",
    "\n",
    "with open('model/params.json') as f:\n",
    "    network_params = json.load(f)\n",
    "\n",
    "\n",
    "corpus = Corpus(dicts_filepath='model/dict.txt')\n",
    "# dataset = total_reader()\n",
    "# corpus = Corpus(dataset)\n",
    "\n",
    "network = NER(corpus, pretrained_model_filepath='model/ner_model.ckpt', **network_params)\n"
   ]
  },
  {
   "cell_type": "code",
   "execution_count": 10,
   "metadata": {},
   "outputs": [],
   "source": [
    "from utils.nlputils import tokenize, lemmatize\n",
    "\n",
    "\n",
    "def print_predict(sentence, network):\n",
    "    # Split sentence into tokens\n",
    "    tokens = tokenize(sentence)\n",
    "    \n",
    "    # Lemmatize every token\n",
    "    # Example: был -> быть, его -> он\n",
    "    tokens_lemmas = lemmatize(tokens)\n",
    "    \n",
    "    tags = network.predict_for_token_batch([tokens_lemmas])[0]\n",
    "    for token, tag in zip(tokens, tags):\n",
    "        print(token, tag)"
   ]
  },
  {
   "cell_type": "code",
   "execution_count": 11,
   "metadata": {},
   "outputs": [
    {
     "name": "stdout",
     "output_type": "stream",
     "text": [
      "Международное O\nрейтинговое O\nагентство O\nStandard B-ORG\n& I-ORG\nPoors I-ORG\n( I-ORG\nS I-ORG\n& I-ORG\nP I-ORG\n) O\nв O\nпонедельник O\nвечером O\nопустило O\nдо O\nдефолтного O\nуровня O\nдолг O\nВенесуэлы B-LOC\nв O\nиностранной O\nвалюте O\nпосле O\nнеисполнения O\nграфика O\nплатежей O\nпо O\nпроцентам O\n. O\n"
     ]
    }
   ],
   "source": [
    "s = 'Международное рейтинговое агентство Standard & Poors (S&P) ' \\\n",
    "    'в понедельник вечером опустило до дефолтного уровня долг ' \\\n",
    "    'Венесуэлы в иностранной валюте после неисполнения графика ' \\\n",
    "    'платежей по процентам.'\n",
    "\n",
    "print_predict(s, network)\n"
   ]
  },
  {
   "cell_type": "code",
   "execution_count": 12,
   "metadata": {},
   "outputs": [
    {
     "name": "stdout",
     "output_type": "stream",
     "text": [
      "Россиянка B-PER\nЮлия I-PER\nЕфимова I-PER\nзавоевала O\nбронзовую O\nмедаль O\nна O\nдистанции O\n200 O\nметров O\nбрассом O\nна O\nседьмом O\nэтапе O\nКубка O\nмира O\nв O\nТокио B-LOC\n. O\nОна O\nпоказала O\nрезультат O\n– O\n2 O\nминуты O\n19 O\n, O\n21 O\nсекунды O\n. O\n"
     ]
    }
   ],
   "source": [
    "s = 'Россиянка Юлия Ефимова завоевала бронзовую медаль на дистанции ' \\\n",
    "     '200 метров брассом на седьмом этапе Кубка мира в Токио. ' \\\n",
    "     'Она показала результат – 2 минуты 19,21 секунды.'\n",
    "\n",
    "\n",
    "print_predict(s, network)"
   ]
  },
  {
   "cell_type": "code",
   "execution_count": 61,
   "metadata": {},
   "outputs": [
    {
     "name": "stdout",
     "output_type": "stream",
     "text": [
      "Международное O\nрейтинговое O\nагентство O\nStandard B-ORG\n& I-ORG\nPoors I-ORG\n( O\nS B-ORG\n& I-ORG\nP I-ORG\n) O\nв O\nпонедельник O\nвечером O\nопустило O\nдо O\nдефолтного O\nуровня O\nдолг O\nВенесуэлы B-LOC\nв O\nиностранной O\nвалюте O\nпосле O\nнеисполнения O\nграфика O\nплатежей O\nпо O\nпроцентам O\n. O\n"
     ]
    }
   ],
   "source": [
    "s = 'Международное рейтинговое агентство Standard & Poors (S&P) ' \\\n",
    "    'в понедельник вечером опустило до дефолтного уровня долг ' \\\n",
    "    'Венесуэлы в иностранной валюте после неисполнения графика ' \\\n",
    "    'платежей по процентам.'\n",
    "\n",
    "print_predict(s, network)"
   ]
  },
  {
   "cell_type": "code",
   "execution_count": null,
   "metadata": {},
   "outputs": [],
   "source": []
  }
 ],
 "metadata": {
  "kernelspec": {
   "display_name": "Python 3",
   "language": "python",
   "name": "python3"
  },
  "language_info": {
   "codemirror_mode": {
    "name": "ipython",
    "version": 3
   },
   "file_extension": ".py",
   "mimetype": "text/x-python",
   "name": "python",
   "nbconvert_exporter": "python",
   "pygments_lexer": "ipython3",
   "version": "3.5.2"
  }
 },
 "nbformat": 4,
 "nbformat_minor": 1
}
