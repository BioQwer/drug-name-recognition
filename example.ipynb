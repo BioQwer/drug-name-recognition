{
 "cells": [
  {
   "cell_type": "code",
   "execution_count": null,
   "metadata": {},
   "outputs": [],
   "source": [
    "from ner.network import NER\n",
    "from ner.corpus import Corpus\n",
    "import json\n",
    "from ner.utils import md5_hashsum, download_untar\n",
    "from glob import glob\n",
    "\n",
    "\n",
    "# Check existance of the model by hashsum\n",
    "if md5_hashsum(glob('model/*')) != 'f25fe8e1297154077fc4d3bf65ed888e':\n",
    "    # Download and extract model\n",
    "    download_url = 'http://lnsigo.mipt.ru/export/ner/ner_model_total_rus.tar.gz'\n",
    "    download_path = 'model/'\n",
    "    download_untar(download_url, download_path)\n",
    "\n",
    "# Load network params\n",
    "with open('model/params.json') as f:\n",
    "    network_params = json.load(f)\n",
    "\n",
    "\n",
    "corpus = Corpus(dicts_filepath='model/dict.txt')\n",
    "\n",
    "network = NER(corpus, verbouse=False, pretrained_model_filepath='model/ner_model', **network_params)"
   ]
  },
  {
   "cell_type": "code",
   "execution_count": 2,
   "metadata": {},
   "outputs": [],
   "source": [
    "from ner.utils import tokenize, lemmatize\n",
    "\n",
    "\n",
    "def print_predict(sentence, network):\n",
    "    # Split sentence into tokens\n",
    "    tokens = tokenize(sentence)\n",
    "    \n",
    "    # Lemmatize every token\n",
    "    # Example: был -> быть, его -> он\n",
    "    tokens_lemmas = lemmatize(tokens)\n",
    "    \n",
    "    tags = network.predict_for_token_batch([tokens_lemmas])[0]\n",
    "    for token, tag in zip(tokens, tags):\n",
    "        print(token, tag)"
   ]
  },
  {
   "cell_type": "code",
   "execution_count": 3,
   "metadata": {},
   "outputs": [
    {
     "name": "stdout",
     "output_type": "stream",
     "text": [
      "Международное O\nрейтинговое O\nагентство O\nStandard B-ORG\n& I-ORG\nPoors I-ORG\n( I-ORG\nS I-ORG\n& I-ORG\nP I-ORG\n) O\nв O\nпонедельник O\nвечером O\nопустило O\nдо O\nдефолтного O\nуровня O\nдолг O\nВенесуэлы B-LOC\nв O\nиностранной O\nвалюте O\nпосле O\nнеисполнения O\nграфика O\nплатежей O\nпо O\nпроцентам O\n. O\n"
     ]
    }
   ],
   "source": [
    "s = 'Международное рейтинговое агентство Standard & Poors (S&P) ' \\\n",
    "    'в понедельник вечером опустило до дефолтного уровня долг ' \\\n",
    "    'Венесуэлы в иностранной валюте после неисполнения графика ' \\\n",
    "    'платежей по процентам.'\n",
    "\n",
    "print_predict(s, network)\n"
   ]
  },
  {
   "cell_type": "code",
   "execution_count": 4,
   "metadata": {},
   "outputs": [
    {
     "name": "stdout",
     "output_type": "stream",
     "text": [
      "Глава O\nминистерства B-ORG\nобороны I-ORG\nСША B-LOC\nДжеймс B-PER\nМэттис I-PER\nназвал O\nприобретение O\nТурцией B-LOC\nроссийских O\nзенитно O\n- O\nракетных O\nкомплексов O\nС O\n- O\n400 O\n\" O\nТриумф O\n\" O\nсуверенным O\nделом O\nвластей O\nреспублики O\n. O\nПри O\nэтом O\nон O\nподчеркнул O\n, O\nчто O\nтакая O\nсделка O\nне O\nбудет O\nподходить O\nтребованиям O\nи O\nпринципам O\nсевероатлантического O\nальянса O\n. O\n"
     ]
    }
   ],
   "source": [
    "s = 'Глава министерства обороны США Джеймс Мэттис назвал ' \\\n",
    "    'приобретение Турцией российских зенитно-ракетных комплексов' \\\n",
    "    ' С-400 \"Триумф\" суверенным делом властей республики. При этом' \\\n",
    "    ' он подчеркнул, что такая сделка не будет подходить требованиям' \\\n",
    "    ' и принципам североатлантического альянса.'\n",
    "print_predict(s, network)"
   ]
  },
  {
   "cell_type": "code",
   "execution_count": null,
   "metadata": {},
   "outputs": [],
   "source": []
  }
 ],
 "metadata": {
  "kernelspec": {
   "display_name": "Python 3",
   "language": "python",
   "name": "python3"
  },
  "language_info": {
   "codemirror_mode": {
    "name": "ipython",
    "version": 3
   },
   "file_extension": ".py",
   "mimetype": "text/x-python",
   "name": "python",
   "nbconvert_exporter": "python",
   "pygments_lexer": "ipython3",
   "version": "3.5.2"
  }
 },
 "nbformat": 4,
 "nbformat_minor": 1
}
