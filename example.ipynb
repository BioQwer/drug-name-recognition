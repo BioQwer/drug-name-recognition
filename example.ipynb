{
 "cells": [
  {
   "cell_type": "code",
   "execution_count": 3,
   "metadata": {},
   "outputs": [
    {
     "name": "stdout",
     "output_type": "stream",
     "text": [
      "C:\\Users\\BioQwer\\Documents\\Development\\ner\n"
     ]
    },
    {
     "ename": "ModuleNotFoundError",
     "evalue": "No module named 'pymorphy2'",
     "traceback": [
      "\u001b[1;31m---------------------------------------------------------------------------\u001b[0m",
      "\u001b[1;31mModuleNotFoundError\u001b[0m                       Traceback (most recent call last)",
      "\u001b[1;32m<ipython-input-3-b41be0b630c6>\u001b[0m in \u001b[0;36m<module>\u001b[1;34m()\u001b[0m\n\u001b[0;32m      1\u001b[0m \u001b[1;32mimport\u001b[0m \u001b[0mos\u001b[0m\u001b[1;33m\u001b[0m\u001b[0m\n\u001b[0;32m      2\u001b[0m \u001b[0mprint\u001b[0m\u001b[1;33m(\u001b[0m\u001b[0mos\u001b[0m\u001b[1;33m.\u001b[0m\u001b[0mgetcwd\u001b[0m\u001b[1;33m(\u001b[0m\u001b[1;33m)\u001b[0m\u001b[1;33m)\u001b[0m\u001b[1;33m\u001b[0m\u001b[0m\n\u001b[1;32m----> 3\u001b[1;33m \u001b[1;32mfrom\u001b[0m \u001b[0mner\u001b[0m \u001b[1;32mimport\u001b[0m \u001b[0mnetwork\u001b[0m\u001b[1;33m\u001b[0m\u001b[0m\n\u001b[0m\u001b[0;32m      4\u001b[0m \u001b[1;32mfrom\u001b[0m \u001b[0mner\u001b[0m\u001b[1;33m.\u001b[0m\u001b[0mcorpus\u001b[0m \u001b[1;32mimport\u001b[0m \u001b[0mCorpus\u001b[0m\u001b[1;33m\u001b[0m\u001b[0m\n\u001b[0;32m      5\u001b[0m \u001b[1;32mimport\u001b[0m \u001b[0mjson\u001b[0m\u001b[1;33m\u001b[0m\u001b[0m\n",
      "\u001b[1;32m~\\Documents\\Development\\ner\\ner\\__init__.py\u001b[0m in \u001b[0;36m<module>\u001b[1;34m()\u001b[0m\n\u001b[1;32m----> 1\u001b[1;33m \u001b[1;32mfrom\u001b[0m \u001b[1;33m.\u001b[0m\u001b[0mextractor\u001b[0m \u001b[1;32mimport\u001b[0m \u001b[0mExtractor\u001b[0m\u001b[1;33m\u001b[0m\u001b[0m\n\u001b[0m",
      "\u001b[1;32m~\\Documents\\Development\\ner\\ner\\extractor\\__init__.py\u001b[0m in \u001b[0;36m<module>\u001b[1;34m()\u001b[0m\n\u001b[1;32m----> 1\u001b[1;33m \u001b[1;32mfrom\u001b[0m \u001b[1;33m.\u001b[0m\u001b[0mextractor\u001b[0m \u001b[1;32mimport\u001b[0m \u001b[0mExtractor\u001b[0m\u001b[1;33m\u001b[0m\u001b[0m\n\u001b[0m",
      "\u001b[1;32m~\\Documents\\Development\\ner\\ner\\extractor\\extractor.py\u001b[0m in \u001b[0;36m<module>\u001b[1;34m()\u001b[0m\n\u001b[0;32m      4\u001b[0m \u001b[1;32mimport\u001b[0m \u001b[0mitertools\u001b[0m\u001b[1;33m\u001b[0m\u001b[0m\n\u001b[0;32m      5\u001b[0m \u001b[1;33m\u001b[0m\u001b[0m\n\u001b[1;32m----> 6\u001b[1;33m \u001b[1;32mimport\u001b[0m \u001b[0mpymorphy2\u001b[0m\u001b[1;33m\u001b[0m\u001b[0m\n\u001b[0m\u001b[0;32m      7\u001b[0m \u001b[1;33m\u001b[0m\u001b[0m\n\u001b[0;32m      8\u001b[0m \u001b[1;32mfrom\u001b[0m \u001b[0mner\u001b[0m\u001b[1;33m.\u001b[0m\u001b[0mcorpus\u001b[0m \u001b[1;32mimport\u001b[0m \u001b[0mCorpus\u001b[0m\u001b[1;33m\u001b[0m\u001b[0m\n",
      "\u001b[1;31mModuleNotFoundError\u001b[0m: No module named 'pymorphy2'"
     ],
     "output_type": "error"
    }
   ],
   "source": [
    "import os\n",
    "\n",
    "import ner\n",
    "\n",
    "print(os.getcwd())\n",
    "from ner import network\n",
    "from ner.corpus import Corpus\n",
    "import json\n",
    "from ner.utils import md5_hashsum, download_untar\n",
    "from glob import glob\n",
    "\n",
    "\n",
    "# Check existance of the model by hashsum\n",
    "if md5_hashsum(sorted(glob('model/*'))) != 'fd50a27b96b24cdabdda13795a3baae7':\n",
    "    # Download and extract model\n",
    "    download_url = 'http://lnsigo.mipt.ru/export/models/ner/ner_model_total_rus.tar.gz'\n",
    "    download_path = 'model/'\n",
    "    download_untar(download_url, download_path)\n",
    "    \n",
    "\n",
    "# Load network params\n",
    "with open('model/params.json') as f:\n",
    "    network_params = json.load(f)\n",
    "\n",
    "corpus = Corpus(dicts_filepath='model/dict.txt')\n",
    "\n",
    "network = ner.network.NER(corpus, verbouse=False, pretrained_model_filepath='model/ner_model', **network_params)\n"
   ]
  },
  {
   "cell_type": "code",
   "execution_count": 2,
   "metadata": {},
   "outputs": [],
   "source": [
    "from ner.utils import tokenize, lemmatize\n",
    "\n",
    "\n",
    "def print_predict(sentence, network):\n",
    "    # Split sentence into tokens\n",
    "    tokens = tokenize(sentence)\n",
    "    \n",
    "    # Lemmatize every token\n",
    "    # Example: был -> быть, его -> он\n",
    "    tokens_lemmas = lemmatize(tokens)\n",
    "    \n",
    "    tags = network.predict_for_token_batch([tokens_lemmas])[0]\n",
    "    for token, tag in zip(tokens, tags):\n",
    "        print(token, tag)"
   ]
  },
  {
   "cell_type": "code",
   "execution_count": 3,
   "metadata": {},
   "outputs": [
    {
     "name": "stdout",
     "output_type": "stream",
     "text": [
      "Международное O\nрейтинговое O\nагентство O\nStandard B-ORG\n& I-ORG\nPoors I-ORG\n( I-ORG\nS I-ORG\n& I-ORG\nP I-ORG\n) O\nв O\nпонедельник O\nвечером O\nопустило O\nдо O\nдефолтного O\nуровня O\nдолг O\nВенесуэлы B-LOC\nв O\nиностранной O\nвалюте O\nпосле O\nнеисполнения O\nграфика O\nплатежей O\nпо O\nпроцентам O\n. O\n"
     ]
    }
   ],
   "source": [
    "s = 'Международное рейтинговое агентство Standard & Poors (S&P) ' \\\n",
    "    'в понедельник вечером опустило до дефолтного уровня долг ' \\\n",
    "    'Венесуэлы в иностранной валюте после неисполнения графика ' \\\n",
    "    'платежей по процентам.'\n",
    "\n",
    "print_predict(s, network)\n"
   ]
  },
  {
   "cell_type": "code",
   "execution_count": 4,
   "metadata": {},
   "outputs": [
    {
     "name": "stdout",
     "output_type": "stream",
     "text": [
      "Глава O\nминистерства B-ORG\nобороны I-ORG\nСША B-LOC\nДжеймс B-PER\nМэттис I-PER\nназвал O\nприобретение O\nТурцией B-LOC\nроссийских O\nзенитно O\n- O\nракетных O\nкомплексов O\nС O\n- O\n400 O\n\" O\nТриумф O\n\" O\nсуверенным O\nделом O\nвластей O\nреспублики O\n. O\nПри O\nэтом O\nон O\nподчеркнул O\n, O\nчто O\nтакая O\nсделка O\nне O\nбудет O\nподходить O\nтребованиям O\nи O\nпринципам O\nсевероатлантического O\nальянса O\n. O\n"
     ]
    }
   ],
   "source": [
    "s = 'Глава министерства обороны США Джеймс Мэттис назвал ' \\\n",
    "    'приобретение Турцией российских зенитно-ракетных комплексов' \\\n",
    "    ' С-400 \"Триумф\" суверенным делом властей республики. При этом' \\\n",
    "    ' он подчеркнул, что такая сделка не будет подходить требованиям' \\\n",
    "    ' и принципам североатлантического альянса.'\n",
    "print_predict(s, network)"
   ]
  },
  {
   "cell_type": "code",
   "execution_count": null,
   "metadata": {},
   "outputs": [],
   "source": []
  }
 ],
 "metadata": {
  "kernelspec": {
   "display_name": "Python 3",
   "language": "python",
   "name": "python3"
  },
  "language_info": {
   "codemirror_mode": {
    "name": "ipython",
    "version": 3
   },
   "file_extension": ".py",
   "mimetype": "text/x-python",
   "name": "python",
   "nbconvert_exporter": "python",
   "pygments_lexer": "ipython3",
   "version": "3.5.2"
  }
 },
 "nbformat": 4,
 "nbformat_minor": 1
}
