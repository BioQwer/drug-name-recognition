{
 "cells": [
  {
   "cell_type": "code",
   "execution_count": null,
   "metadata": {
    "collapsed": true
   },
   "outputs": [],
   "source": [
    "from importlib import reload\n",
    "import ner\n",
    "reload(ner)\n",
    "from ner.network import NER\n",
    "from ner.corpus import Corpus\n",
    "import os"
   ]
  },
  {
   "cell_type": "code",
   "execution_count": 2,
   "metadata": {},
   "outputs": [
    {
     "name": "stdout",
     "output_type": "stream",
     "text": [
      "Number of parameters: \nEmbeddings 2363400\nClassifier 1010\nConvNet 112700\nTotal number of parameters equal 2477110\nINFO:tensorflow:Restoring parameters from /home/arcady/NER_s/cnnner/model/ner_model.ckpt\n"
     ]
    }
   ],
   "source": [
    "corpus = Corpus(dicts_filepath='dict.txt')\n",
    "\n",
    "parameters = {'n_conv_layers': 2,\n",
    "              'n_filters': 100,\n",
    "              'filter_width': 5,\n",
    "              'token_embeddings_dim': 100,\n",
    "              'char_embeddings_dim': 25,\n",
    "              'use_batch_norm': False}\n",
    "\n",
    "project_path = '/home/arcady/NER_s/cnnner'\n",
    "model_path = os.path.join(project_path, 'model', 'ner_model.ckpt')\n",
    "\n",
    "ner_network = NER(corpus, pretrained_model_filepath=model_path, **parameters)"
   ]
  },
  {
   "cell_type": "code",
   "execution_count": null,
   "metadata": {},
   "outputs": [],
   "source": []
  }
 ],
 "metadata": {
  "kernelspec": {
   "display_name": "Python 2",
   "language": "python",
   "name": "python2"
  },
  "language_info": {
   "codemirror_mode": {
    "name": "ipython",
    "version": 2
   },
   "file_extension": ".py",
   "mimetype": "text/x-python",
   "name": "python",
   "nbconvert_exporter": "python",
   "pygments_lexer": "ipython2",
   "version": "2.7.6"
  }
 },
 "nbformat": 4,
 "nbformat_minor": 0
}
